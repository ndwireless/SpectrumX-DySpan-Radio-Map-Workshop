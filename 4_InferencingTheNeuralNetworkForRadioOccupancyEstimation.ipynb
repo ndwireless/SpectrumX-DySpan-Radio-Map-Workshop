{
 "cells": [
  {
   "cell_type": "code",
   "execution_count": null,
   "id": "90525a63-d8f5-4422-9b62-eeb8a9f3f467",
   "metadata": {},
   "outputs": [],
   "source": [
    "'''\n",
    "In this notebook, we will use a trained neural network to estimate the pooled occupancy maps from the pooled llr sensor maps.\n",
    "'''\n",
    "import torch\n",
    "import numpy as np\n",
    "import scipy\n",
    "import matplotlib.pyplot as plt\n",
    "from google.colab import drive\n",
    "drive.mount('/content/gdrive')\n",
    "from dense_ed import DenseED\n",
    "%matplotlib inline"
   ]
  },
  {
   "cell_type": "code",
   "execution_count": null,
   "id": "7e89fc40-a0bf-4818-b650-f2e313fd0d65",
   "metadata": {},
   "outputs": [],
   "source": [
    "def make_larger_sensors(sensor_map):\n",
    "    '''\n",
    "    This is a function we'll use to help us visualize the sensor locations\n",
    "    '''\n",
    "    max_x = sensor_map.size(dim=1)\n",
    "    max_y = sensor_map.size(dim=0)\n",
    "    out_sensor_map = torch.zeros(max_y, max_x)\n",
    "    for y in range(sensor_map.size(dim=0)):\n",
    "        for x in range(sensor_map.size(dim=1)):\n",
    "            if sensor_map[y, x]:\n",
    "                out_sensor_map[y, x] = 1\n",
    "\n",
    "                back_y = y - 1 >= 0\n",
    "                for_y = y + 1 < max_y\n",
    "\n",
    "                back_x = x - 1 >= 0\n",
    "                for_x = x + 1 < max_x\n",
    "\n",
    "                if back_y:\n",
    "                    out_sensor_map[y - 1, x] = 1\n",
    "\n",
    "                if back_x:\n",
    "                    out_sensor_map[y, x - 1] = 1\n",
    "\n",
    "                if for_y:\n",
    "                    out_sensor_map[y + 1, x] = 1\n",
    "\n",
    "                if for_x:\n",
    "                    out_sensor_map[y, x + 1] = 1\n",
    "    return out_sensor_map"
   ]
  },
  {
   "cell_type": "code",
   "execution_count": null,
   "id": "631c69d9-9c8f-40b8-85d1-27c40bf3348c",
   "metadata": {},
   "outputs": [],
   "source": [
    "'''\n",
    "LOAD BACK IN OUR DATA FROM THE PREVIOUS NOTEBOOKS\n",
    "'''\n",
    "import os\n",
    "power_maps = torch.load(f'{os.getcwd()}/power_maps.pt')\n",
    "pooled_occupancy_maps = torch.load(f'{os.getcwd()}/pooled_occupancy_maps.pt')\n",
    "pooled_llr_sensor_maps = torch.load(f'{os.getcwd()}/pooled_llr_sensor_maps.pt')\n",
    "\n",
    "# Peek the maps\n",
    "i_map = 2\n",
    "pooled_viz_llr_sensors_H1 = make_larger_sensors((pooled_llr_sensor_maps[i_map] > 0).to(torch.float32))\n",
    "pooled_viz_llr_sensors_H0 = make_larger_sensors((pooled_llr_sensor_maps[i_map] < 0).to(torch.float32))\n",
    "\n",
    "fig, axs = plt.subplots(1, 3)\n",
    "axs[0].imshow(torch.flip(power_maps[i_map], dims=[0]))\n",
    "axs[0].axis('off')\n",
    "axs[0].set_title('Power [dBm]')\n",
    "\n",
    "axs[1].imshow(torch.flip(pooled_occupancy_maps[i_map], dims=[0]), vmin=0, vmax=1, interpolation='nearest')\n",
    "axs[1].axis('off')\n",
    "axs[1].set_title('Occupancy')\n",
    "\n",
    "axs[2].imshow(torch.flip(pooled_viz_llr_sensors_H1 - pooled_viz_llr_sensors_H0, dims=[0]), vmin=-1, vmax=1, cmap='gray')\n",
    "axs[2].axis(\"off\")\n",
    "axs[2].set_title('LLR Sensors')\n",
    "plt.show()"
   ]
  },
  {
   "cell_type": "code",
   "execution_count": null,
   "id": "a936ba70-e7d2-432a-ac38-be26dd20f12a",
   "metadata": {},
   "outputs": [],
   "source": [
    "'''\n",
    "LOAD THE TRAINED NEURAL NETWORK\n",
    "This neural network is Dense Encoder Decoder Convolutional Neural Network\n",
    "'''\n",
    "model_loc = f'{os.getcwd()}/models/chicago/model_epoch500.pth'\n",
    "model = DenseED(in_batch_norm=True, out_conv_ker_size=5)\n",
    "model.load_state_dict(torch.load(model_loc, map_location=torch.device('cpu')))\n",
    "model.eval()"
   ]
  },
  {
   "cell_type": "code",
   "execution_count": null,
   "id": "7b364b83-5325-4b41-bb2b-55bfe5f6df43",
   "metadata": {},
   "outputs": [],
   "source": [
    "'''\n",
    "INFERENCE THE NEURAL NETWORK \n",
    "Now we feed the neural network pooled llr sensor maps we generated in the previous Jupyter Notebook. This will create the pooled occupancy estimates.\n",
    "'''\n",
    "pooled_occupancy_map_estimates = torch.sigmoid(model(pooled_llr_sensor_maps[:, None])).detach() > 0.5\n",
    "pooled_occupancy_map_estimates = pooled_occupancy_map_estimates[:, 0, :, :]"
   ]
  },
  {
   "cell_type": "code",
   "execution_count": null,
   "id": "72a7e390-8f43-4dae-9781-d822d01426c9",
   "metadata": {},
   "outputs": [],
   "source": [
    "'''\n",
    "VIEW THE NEURAL NETWORK POOLED OCCUPANCY MAP ESTIMATES\n",
    "'''\n",
    "i_map = 0\n",
    "pooled_viz_llr_sensors_H1 = make_larger_sensors((pooled_llr_sensor_maps[i_map] > 0).to(torch.float32))\n",
    "pooled_viz_llr_sensors_H0 = make_larger_sensors((pooled_llr_sensor_maps[i_map] < 0).to(torch.float32))\n",
    "\n",
    "accuracy = torch.mean(pooled_occupancy_map_estimates[i_map] == pooled_occupancy_maps[i_map], dtype=torch.float32).item()\n",
    "\n",
    "fig, axs = plt.subplots(2, 2)\n",
    "axs[0][0].imshow(torch.flip(power_maps[i_map], dims=[0]))\n",
    "axs[0][0].axis('off')\n",
    "axs[0][0].set_title('Power Map [dBm]')\n",
    "\n",
    "axs[0][1].imshow(torch.flip(pooled_viz_llr_sensors_H1 - pooled_viz_llr_sensors_H0, dims=[0]), vmin=-1, vmax=1, cmap='gray')\n",
    "axs[0][1].axis(\"off\")\n",
    "axs[0][1].set_title('LLR Sensors Map')\n",
    "\n",
    "axs[1][0].imshow(torch.flip(pooled_occupancy_maps[i_map], dims=[0]), vmin=0, vmax=1, interpolation='nearest')\n",
    "axs[1][0].axis('off')\n",
    "axs[1][0].set_title('Occupancy Map')\n",
    "\n",
    "axs[1][1].imshow(torch.flip(pooled_occupancy_map_estimates[i_map], dims=[0]), vmin=0, vmax=1, interpolation='nearest')\n",
    "axs[1][1].axis('off')\n",
    "axs[1][1].set_title(f'Estimate, Acc: {round(accuracy * 100, 1)}%')\n",
    "plt.show()\n"
   ]
  },
  {
   "cell_type": "code",
   "execution_count": null,
   "id": "cda7bf7f-9d1a-481a-a576-9decb2e9a738",
   "metadata": {},
   "outputs": [],
   "source": []
  }
 ],
 "metadata": {
  "kernelspec": {
   "display_name": "Python 3 (ipykernel)",
   "language": "python",
   "name": "python3"
  },
  "language_info": {
   "codemirror_mode": {
    "name": "ipython",
    "version": 3
   },
   "file_extension": ".py",
   "mimetype": "text/x-python",
   "name": "python",
   "nbconvert_exporter": "python",
   "pygments_lexer": "ipython3",
   "version": "3.11.7"
  }
 },
 "nbformat": 4,
 "nbformat_minor": 5
}
